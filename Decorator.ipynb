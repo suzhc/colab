{
  "nbformat": 4,
  "nbformat_minor": 0,
  "metadata": {
    "colab": {
      "provenance": [],
      "authorship_tag": "ABX9TyOLjX2FuhLs04R88xTGhtw/",
      "include_colab_link": true
    },
    "kernelspec": {
      "name": "python3",
      "display_name": "Python 3"
    },
    "language_info": {
      "name": "python"
    }
  },
  "cells": [
    {
      "cell_type": "markdown",
      "metadata": {
        "id": "view-in-github",
        "colab_type": "text"
      },
      "source": [
        "<a href=\"https://colab.research.google.com/github/suzhc/colab/blob/main/Decorator.ipynb\" target=\"_parent\"><img src=\"https://colab.research.google.com/assets/colab-badge.svg\" alt=\"Open In Colab\"/></a>"
      ]
    },
    {
      "cell_type": "code",
      "source": [
        "from time import time"
      ],
      "metadata": {
        "id": "oX69yeuOpJLs"
      },
      "execution_count": null,
      "outputs": []
    },
    {
      "cell_type": "code",
      "source": [
        "def add(a, b=10):\n",
        "  return a + b\n",
        "\n",
        "def sub(a, b=10):\n",
        "  return a - b\n",
        "\n",
        "print(f'add(12): {add(12)}')\n",
        "print(f'sub(12): {sub(12)}')"
      ],
      "metadata": {
        "colab": {
          "base_uri": "https://localhost:8080/"
        },
        "id": "bL99ostesvAR",
        "outputId": "32a581c8-3376-4ce1-a57f-7e0f90975db9"
      },
      "execution_count": null,
      "outputs": [
        {
          "output_type": "stream",
          "name": "stdout",
          "text": [
            "add(12): 22\n",
            "sub(12): 2\n"
          ]
        }
      ]
    },
    {
      "cell_type": "code",
      "source": [
        "def timer(func):\n",
        "  def wrapper(a, b=10):\n",
        "    before = time()\n",
        "    result = func(a)\n",
        "    after = time()\n",
        "    elapsed = after - before\n",
        "    print(f\"Elapsed: {elapsed}\")\n",
        "    return result\n",
        "  return wrapper\n",
        "\n",
        "def add(a, b=10):\n",
        "  return a + b\n",
        "add = timer(add)\n",
        "\n",
        "def sub(a, b=10):\n",
        "  return a - b\n",
        "sub = timer(sub)\n",
        "\n",
        "print(f'add(12): {add(12)}')\n",
        "print(f'sub(12): {sub(12)}')"
      ],
      "metadata": {
        "id": "Bw6Q4bBUlB6X",
        "colab": {
          "base_uri": "https://localhost:8080/"
        },
        "outputId": "860690f0-d1ce-4b85-cd1c-74a756215d1a"
      },
      "execution_count": null,
      "outputs": [
        {
          "output_type": "stream",
          "name": "stdout",
          "text": [
            "Elapsed: 7.152557373046875e-07\n",
            "add(12): 22\n",
            "Elapsed: 1.9073486328125e-06\n",
            "sub(12): 2\n"
          ]
        }
      ]
    },
    {
      "cell_type": "code",
      "source": [
        "@timer\n",
        "def add(a, b=10):\n",
        "  return a + b\n",
        "\n",
        "@timer\n",
        "def sub(a, b=10):\n",
        "  return a - b\n",
        "\n",
        "print(f'add(12): {add(12)}')\n",
        "print(f'sub(12): {sub(12)}')"
      ],
      "metadata": {
        "colab": {
          "base_uri": "https://localhost:8080/"
        },
        "id": "wIbT18bzltvR",
        "outputId": "d8c3c752-1b45-456b-8955-d8575265a9d9"
      },
      "execution_count": null,
      "outputs": [
        {
          "output_type": "stream",
          "name": "stdout",
          "text": [
            "Elapsed: 1.9073486328125e-06\n",
            "add(12): 22\n",
            "Elapsed: 1.6689300537109375e-06\n",
            "sub(12): 2\n"
          ]
        }
      ]
    }
  ]
}